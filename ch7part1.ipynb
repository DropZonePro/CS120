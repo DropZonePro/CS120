{
  "cells": [
    {
      "cell_type": "markdown",
      "metadata": {
        "id": "4xt9l2NN0vJ9"
      },
      "source": [
        "<style>\n",
        "\th1 {\n",
        "\t--\tbackground-color: grey;\n",
        "\t\tcolor: yellow\n",
        "\t\tborder: 3px solid grey\n",
        "\n",
        "\t}\n",
        "\tp {\n",
        "\t\tbackground-color: grey;\n",
        "\t\tcolor: white\n",
        "\t\tborder: 3px solid grey\n",
        "\n",
        "\t}\n",
        "</style>\n",
        "<h1> Chapter 7 List: Part 1</h1>"
      ]
    },
    {
      "cell_type": "markdown",
      "metadata": {
        "id": "Mqn4tLvN0vJ9"
      },
      "source": [
        "<p style=\"margin-left:40px\"> 7.1 Basic Examples of List</p>\n",
        "\n",
        "<p style=\"margin-left:40px\"> 7.2 Understanding the \"Mutable Data Type\" </p>\n",
        "\n",
        "<p style=\"margin-left:40px\"> 7.3 Handing the list index out of range error </p>\n",
        "\n",
        "<p style=\"margin-left:40px\"> 7.4 List of List </p>\n",
        "\n",
        "<p style=\"margin-left:40px\"> 7.5 any() and all() </p>\n"
      ]
    },
    {
      "cell_type": "markdown",
      "metadata": {
        "id": "U-_EKiNu0vJ9"
      },
      "source": [
        "***\n",
        "\n",
        "## <p style=\"background-color: grey; color: white \"> ◼️  List </p>\n",
        "# <p style=\"font-family: Arial; font-size:1.4em;color:red;\"> 1. Basic Examples of List</p>\n"
      ]
    },
    {
      "cell_type": "markdown",
      "metadata": {
        "id": "uSSnkH2h0vJ-"
      },
      "source": [
        "<style>\n",
        "\th3{\n",
        "\t\tbackground-color: grey\n",
        "\t\tcolor: white\n",
        "\t}\n",
        "</style>\n",
        "\n",
        "<h1> Understanding the \"Mutable Data Type\"  </h1>\n",
        "\n",
        "- Run all the following code cells and check out the result of code segments"
      ]
    },
    {
      "cell_type": "markdown",
      "metadata": {
        "id": "A50KWF6r0vJ-"
      },
      "source": [
        "#### <p style=\"font-family: Arial; font-size:1.4em; background-color: yellow; color:black;\"> Problem #1.0 </p>\n",
        "\n",
        "#### Run all the cells and figure out the Mutal Data Type"
      ]
    },
    {
      "cell_type": "markdown",
      "metadata": {
        "id": "38V_Q1YL0vJ-"
      },
      "source": [
        "### What is the value of numbers1 after run the following code cell?"
      ]
    },
    {
      "cell_type": "code",
      "execution_count": null,
      "metadata": {
        "colab": {
          "base_uri": "https://localhost:8080/"
        },
        "id": "DeaSsYbd0vJ-",
        "outputId": "e9d2e30e-041d-4871-8f25-b26b3b0ddd19"
      },
      "outputs": [
        {
          "output_type": "execute_result",
          "data": {
            "text/plain": [
              "[6, 7]"
            ]
          },
          "metadata": {},
          "execution_count": 1
        }
      ],
      "source": [
        "numbers1 = [1,2,3,4,5,6,7]\n",
        "numbers2 = numbers1\n",
        "\n",
        "del numbers2[:5]\n",
        "\n",
        "numbers1"
      ]
    },
    {
      "cell_type": "markdown",
      "metadata": {
        "id": "Dp0LvTdl0vJ-"
      },
      "source": [
        "#### <p style=\"font-family: Arial; font-size:1.4em; background-color: yellow; color:black;\"> Problem #1.1 </p>\n",
        "\n",
        "#### Figure out the difference between the following two code segments\n",
        "\n",
        "#### The first code segment:\n",
        "- the number is integer value in the function.\n",
        "- The value of the number is changed by the function\n",
        "- Check the value in the caller function main()\n",
        "- The change of the value of the number is not reflected in the caller function\n",
        "\n",
        "#### The second code segment:\n",
        "- The list is a mutable data type\n",
        "- The value of the list is changed by the function\n",
        "- Check the value in the caller function main()\n",
        "- The change of the value of the list is reflected in the caller function\n",
        "\n",
        "## Explain the output of the following code segments. <br> Elaborate the reason why the output is as such."
      ]
    },
    {
      "cell_type": "code",
      "execution_count": 2,
      "metadata": {
        "colab": {
          "base_uri": "https://localhost:8080/"
        },
        "id": "aZ47WCaS0vJ-",
        "outputId": "e9f88ac8-60ce-458b-e086-1630497b6294"
      },
      "outputs": [
        {
          "output_type": "stream",
          "name": "stdout",
          "text": [
            "number in main(): -1\n"
          ]
        }
      ],
      "source": [
        "def myfuntion(number):\n",
        "    number = 100\n",
        "\n",
        "number = -1\n",
        "myfuntion(number)\n",
        "print ('number in main():', number)\n",
        "# number in main(): -1. Change of the value of the number is not reflected in the caller function\n",
        "# The reason why this code segment outputs -1 is because data type \"int\" is not a mutable data type, therefore it remains constant throughout the code"
      ]
    },
    {
      "cell_type": "code",
      "execution_count": 1,
      "metadata": {
        "colab": {
          "base_uri": "https://localhost:8080/"
        },
        "id": "gsGFetia0vJ-",
        "outputId": "50f5528b-0494-43c9-818e-4c09fdb25a1b"
      },
      "outputs": [
        {
          "output_type": "stream",
          "name": "stdout",
          "text": [
            "numbers in main(): [100]\n"
          ]
        }
      ],
      "source": [
        "def myfunction(numbers):\n",
        "    numbers[0] = 100\n",
        "\n",
        "numbers = [-1]\n",
        "myfunction(numbers)\n",
        "print ('numbers in main():', numbers)\n",
        "# numbers in main(): [100]. Change of the value of the list is reflected in the caller function\n",
        "# The reason why this code segments outputs 100 is because the data type \"list\" is a mutable data type unlike int, so it can be changed at any time in the code"
      ]
    },
    {
      "cell_type": "markdown",
      "metadata": {
        "id": "RhTqUsvq0vJ-"
      },
      "source": [
        "#### <p style=\"font-family: Arial; font-size:1.4em; background-color: yellow; color:black;\"> Problem #1.2 </p>\n",
        "\n",
        "#### List the other data types that are working as the same way as the list in the above code segments.\n",
        "### Choose the data types from the following list:\n",
        "- String\n",
        "- Tuple\n",
        "- Dictionary\n",
        "- Set\n",
        "\n",
        "- int\n",
        "- float\n",
        "- boolean\n",
        "\n",
        "\n",
        "The mutable data types in this list are dictionary and set.\n"
      ]
    },
    {
      "cell_type": "markdown",
      "metadata": {
        "id": "-3DrEYq-0vJ-"
      },
      "source": [
        "#### <p style=\"font-family: Arial; font-size:1.4em; background-color: yellow; color:black;\"> Problem #1.3 </p>\n",
        "\n",
        "#### Review the following methods of the list data type.\n",
        "- append(): This will add new elements to the list\n",
        "- extend(): Adds elements from one list to the end of another list\n",
        "- insert(): Inserts and element at a specified index in a list (index, element)\n",
        "- remove(): Removes the specified element within a list (element)\n",
        "- sort(): Automatically sorts the list from smallest to greatest\n",
        "- reverse(): reverses the order of the elements within the list\n",
        "- pop(): pops out an element at a specified index within the list and returns it to another specified index. If no specified return index is stated, then the element will be returned to the end of the list.\n",
        "- count(): returns the number of times a specified value within a list or string occurs\n",
        "- index(): finds the index of the first occurence of a specified element (value, start, end)\n",
        "- copy(): creates a shallow copy of a list which is a list that references the original list rather than outright copying it\n",
        "- clear(): removes all elements within a list\n",
        "\n",
        "\n"
      ]
    },
    {
      "cell_type": "markdown",
      "metadata": {
        "id": "Jr3d3uar0vJ-"
      },
      "source": [
        "## Concatenation of the List\n",
        "```\n",
        "n1 = [1,2,3]\n",
        "n2 = [4,5,6]\n",
        "```\n",
        "\n",
        "### complete your code here to concatenate the two lists"
      ]
    },
    {
      "cell_type": "code",
      "execution_count": 4,
      "metadata": {
        "id": "wiz_QTUx0vJ-",
        "colab": {
          "base_uri": "https://localhost:8080/"
        },
        "outputId": "5f621269-dd83-4332-c489-411bbd5bd9dc"
      },
      "outputs": [
        {
          "output_type": "stream",
          "name": "stdout",
          "text": [
            "[1, 2, 3, 4, 5, 6]\n"
          ]
        }
      ],
      "source": [
        "n1 = [1, 2, 3]\n",
        "n2 = [4, 5, 6]\n",
        "n3 = n1 + n2\n",
        "print(n3)"
      ]
    },
    {
      "cell_type": "markdown",
      "metadata": {
        "id": "zFKBsJZM0vJ_"
      },
      "source": [
        "## Sort the list in the descending order\n",
        "```\n",
        "import random\n",
        "numbers = random.sample(range(1,100), 10)\n",
        "print (numbers)\n",
        "```\n",
        "\n",
        "### complete your code here to sort the list in the descending order\n",
        "\n"
      ]
    },
    {
      "cell_type": "code",
      "execution_count": 6,
      "metadata": {
        "id": "T8cz1zHS0vJ_",
        "colab": {
          "base_uri": "https://localhost:8080/"
        },
        "outputId": "9e5dca8a-30b8-4f92-a06b-9549d585c50c"
      },
      "outputs": [
        {
          "output_type": "stream",
          "name": "stdout",
          "text": [
            "[93, 87, 78, 73, 62, 47, 43, 22, 19, 18]\n"
          ]
        }
      ],
      "source": [
        "import random\n",
        "numbers = random.sample(range(1, 100), 10)\n",
        "numbers.sort(reverse=True)\n",
        "print(numbers)"
      ]
    },
    {
      "cell_type": "markdown",
      "metadata": {
        "id": "44wVE3vo0vJ_"
      },
      "source": [
        "## Figoure out the difference between the following statements\n",
        "```\n",
        "numbers1 = [1,2,3,4,5,6,7,8,9,10]\n",
        "numbers2 = numbers1\n",
        "numbers3 = number1[:]\n",
        "numbers4 = number1.copy()\n",
        "```\n",
        "\n",
        "### complete your code here to test the above statements\n",
        "### Make some changes to the list numbers1 and check the output of numbers2, numbers3, and numbers4\n",
        "### Elaborate the reason why the output is as such.\n",
        "\n",
        "\n"
      ]
    },
    {
      "cell_type": "code",
      "source": [
        "numbers1 = [1,2,3,4,5,6,7,8,9,10]\n",
        "numbers2 = numbers1\n",
        "numbers3 = numbers1[:]\n",
        "numbers4 = numbers1.copy()\n",
        "\n",
        "numbers1.sort(reverse=True)\n",
        "\n",
        "print(numbers1)\n",
        "print(numbers2)\n",
        "print(numbers3)\n",
        "print(numbers4)\n",
        "\n",
        "#The reason why only numbers1 and numbers2 will print in reverse here is because numbers3 and numbers4 create a shallow copy of numbers1 which uses references for numbers1 before it was sorted in reverse. Numbers2 on the other hand always equals numbers1 so it will always be exactly what numbers1 is."
      ],
      "metadata": {
        "colab": {
          "base_uri": "https://localhost:8080/"
        },
        "id": "B737o-3Q9fmh",
        "outputId": "65fefe6e-1224-46a6-ae4f-7f5d192948c8"
      },
      "execution_count": 9,
      "outputs": [
        {
          "output_type": "stream",
          "name": "stdout",
          "text": [
            "[10, 9, 8, 7, 6, 5, 4, 3, 2, 1]\n",
            "[10, 9, 8, 7, 6, 5, 4, 3, 2, 1]\n",
            "[1, 2, 3, 4, 5, 6, 7, 8, 9, 10]\n",
            "[1, 2, 3, 4, 5, 6, 7, 8, 9, 10]\n"
          ]
        }
      ]
    },
    {
      "cell_type": "markdown",
      "metadata": {
        "id": "e2uHZ7df0vJ_"
      },
      "source": [
        "<mark> Save your file by pressing \"Ctrl+S\" or \"git commit -m \"your message\"\" </mark>"
      ]
    },
    {
      "cell_type": "markdown",
      "metadata": {
        "id": "4iRQy1Q90vJ_"
      },
      "source": [
        "***\n",
        "\n",
        "## <p style=\"background-color: grey; color: white \"> ◼️  List </p>\n",
        "# <p style=\"font-family: Arial; font-size:1.4em;color:red;\"> 2. Understanding the \"Immutable Data Type\" </p>\n"
      ]
    },
    {
      "cell_type": "markdown",
      "metadata": {
        "id": "Poi-2MDg0vJ_"
      },
      "source": [
        "# Object Identity\n",
        "- this specific memory address is what you’ll know as the object’s identity.\n",
        "- This identity is a unique identifier that distinguishes one object from others.\n",
        "- You can use the id() function to find out the identity of an object.\n",
        "\n",
        "\n",
        "\n",
        "\n",
        "\n",
        "\n",
        "\n"
      ]
    },
    {
      "cell_type": "markdown",
      "metadata": {
        "id": "GOJlgkO40vJ_"
      },
      "source": [
        "#### <p style=\"font-family: Arial; font-size:1.4em; background-color: yellow; color:black;\"> Problem #2.0 </p>"
      ]
    },
    {
      "cell_type": "markdown",
      "metadata": {
        "id": "-hS-Fc6b0vJ_"
      },
      "source": [
        "### Even you use the same value, the identity of the object is different.\n",
        "### Because the integer is an immutable data type.\n",
        "\n",
        "#### Run the following code segment and figure out the identity of the object"
      ]
    },
    {
      "cell_type": "code",
      "execution_count": 10,
      "metadata": {
        "id": "aBM63EXR0vJ_",
        "colab": {
          "base_uri": "https://localhost:8080/"
        },
        "outputId": "d1561e31-975a-470a-fa74-b869a64ffe8f"
      },
      "outputs": [
        {
          "output_type": "execute_result",
          "data": {
            "text/plain": [
              "10751144"
            ]
          },
          "metadata": {},
          "execution_count": 10
        }
      ],
      "source": [
        "num: int = 10\n",
        "\n",
        "id(num)"
      ]
    },
    {
      "cell_type": "code",
      "execution_count": 11,
      "metadata": {
        "id": "86aHau8s0vJ_",
        "colab": {
          "base_uri": "https://localhost:8080/"
        },
        "outputId": "14274845-65c4-4464-f023-6b5b2580c2e5"
      },
      "outputs": [
        {
          "output_type": "execute_result",
          "data": {
            "text/plain": [
              "10751464"
            ]
          },
          "metadata": {},
          "execution_count": 11
        }
      ],
      "source": [
        "num = 20    # The identity of the object is different even if you use the same variable\n",
        "id(num)"
      ]
    },
    {
      "cell_type": "markdown",
      "metadata": {
        "id": "WvsxfREw0vJ_"
      },
      "source": [
        "#### <p style=\"font-family: Arial; font-size:1.4em; background-color: yellow; color:black;\"> Problem #2.1 </p>"
      ]
    },
    {
      "cell_type": "markdown",
      "metadata": {
        "id": "T_KTjUe10vJ_"
      },
      "source": [
        "### For the list data type, the identity of the object is the same.\n",
        "### Because the list is a mutable data type.\n",
        "\n",
        "#### Run the following code segment and figure out the identity of the list numbers1 and numbers2\n",
        "#### Elaborate the reason why the identity of the list is the same."
      ]
    },
    {
      "cell_type": "code",
      "execution_count": 12,
      "metadata": {
        "id": "hSYD5_2p0vJ_",
        "colab": {
          "base_uri": "https://localhost:8080/"
        },
        "outputId": "df51768c-fa23-4b45-a615-d1e4bb55d8f8"
      },
      "outputs": [
        {
          "output_type": "stream",
          "name": "stdout",
          "text": [
            "132084244689536 132084244689536\n"
          ]
        }
      ],
      "source": [
        "numbers1 = [1,2,3]\n",
        "numbers2 = numbers1\n",
        "\n",
        "print (id(numbers1), id(numbers2))\n",
        "# The identity of the object is the same because numbers2 directly equals numbers1, therefore it is in a way just numbers1 again."
      ]
    },
    {
      "cell_type": "markdown",
      "metadata": {
        "id": "p3r8qxDY0vJ_"
      },
      "source": [
        "#### <p style=\"font-family: Arial; font-size:1.4em; background-color: yellow; color:black;\"> Problem #2.2 </p>"
      ]
    },
    {
      "cell_type": "markdown",
      "metadata": {
        "id": "241yfXVM0vJ_"
      },
      "source": [
        "### In function call, the identities of the list are the same.  \n",
        "### Because the list is a mutable data type.\n",
        "```\n",
        "def myfunction(numbers):\n",
        "    numbers[0] = 100\n",
        "\n",
        "numbers = [1,2,3]\n",
        "myfunction(numbers)\n",
        "print (numbers)\n",
        "```\n",
        "### The identity of the list is the same.\n",
        "\n",
        "Make the code segment to show the identity of the list is the same.\n",
        "\n",
        "- Elaborate the reason why the identity of the list is the same.\n",
        "\n"
      ]
    },
    {
      "cell_type": "code",
      "execution_count": 14,
      "metadata": {
        "id": "TJDVG38C0vJ_",
        "colab": {
          "base_uri": "https://localhost:8080/"
        },
        "outputId": "c36b2113-ac53-4a0d-91f8-e6babafe799a"
      },
      "outputs": [
        {
          "output_type": "stream",
          "name": "stdout",
          "text": [
            "132084242819904\n"
          ]
        }
      ],
      "source": [
        "def myfunction(numbers):\n",
        "    numbers[0] = 100\n",
        "\n",
        "numbers = [1, 2, 3]\n",
        "myfunction(numbers)\n",
        "print(id(numbers))\n",
        "\n",
        "#The reason why the identities of the lists are the same is because lists are a mutable data type, so when one list is equaling another it is able to hold the same identity since in can in a way exist more than once, according to my knowledge."
      ]
    },
    {
      "cell_type": "markdown",
      "metadata": {
        "id": "14W4CjcT0vJ_"
      },
      "source": [
        "<mark> Save your file by pressing \"Ctrl+S\" or \"git commit -m \"your message\"\" </mark>"
      ]
    },
    {
      "cell_type": "markdown",
      "metadata": {
        "id": "58Mq2fY10vJ_"
      },
      "source": [
        "***\n",
        "\n",
        "## <p style=\"background-color: grey; color: white \"> ◼️  List </p>\n",
        "# <p style=\"font-family: Arial; font-size:1.4em;color:red;\"> 3. Handing the list index out of range error </p>\n"
      ]
    },
    {
      "cell_type": "markdown",
      "metadata": {
        "id": "OUkNdija0vJ_"
      },
      "source": [
        "#### <p style=\"font-family: Arial; font-size:1.4em; background-color: yellow; color:black;\"> Problem #3.1 </p>"
      ]
    },
    {
      "cell_type": "markdown",
      "metadata": {
        "id": "3Ig0pJ_v0vJ_"
      },
      "source": [
        "## [1] Figure out the index error situation"
      ]
    },
    {
      "cell_type": "markdown",
      "metadata": {
        "id": "DA18fS9D0vKA"
      },
      "source": [
        "### 1) Error or Not ?\n",
        "\n",
        "```\n",
        "numbers = [1,2,3]\n",
        "numbers[3] = 100\n",
        "```\n",
        "\n",
        "### 2) Error or Not ?\n",
        "```\n",
        "print (numbers[:10])\n",
        "```"
      ]
    },
    {
      "cell_type": "code",
      "execution_count": null,
      "metadata": {
        "id": "QdiDZAa50vKA"
      },
      "outputs": [],
      "source": [
        "# Run the above code segments and figure out the index error situation\n",
        "\n"
      ]
    },
    {
      "cell_type": "code",
      "execution_count": null,
      "metadata": {
        "id": "jSY3UAYS0vKA",
        "outputId": "695f4a7c-a551-46f6-d07a-cfa4add39cdd"
      },
      "outputs": [
        {
          "name": "stdout",
          "output_type": "stream",
          "text": [
            "[2, 3]\n"
          ]
        }
      ],
      "source": [
        "numbers = [1,2,3]\n",
        "# print (numbers[3])\n",
        "\n",
        "print (numbers[1:10])"
      ]
    },
    {
      "cell_type": "markdown",
      "metadata": {
        "id": "9LpFDbLZ0vKA"
      },
      "source": [
        "#### <p style=\"font-family: Arial; font-size:1.4em; background-color: yellow; color:black;\"> Problem #3.2 </p>"
      ]
    },
    {
      "cell_type": "markdown",
      "metadata": {
        "id": "_JEd_g2S0vKA"
      },
      "source": [
        "## [2] Handling the index error situation with the try-except statement"
      ]
    },
    {
      "cell_type": "markdown",
      "metadata": {
        "id": "QJgluJ3n0vKG"
      },
      "source": [
        "### Understanding the try-except statement\n",
        "\n",
        "``` Basic Syntax of the try-except statement\n",
        "try:\n",
        "    # Code block where exception might occur\n",
        "    # Your code here\n",
        "except ExceptionType as e:\n",
        "    # Code block to execute if an exception occurs\n",
        "    # Your code here\n",
        "else:\n",
        "    # Code block to execute if no exception occurs\n",
        "    # Your code here\n",
        "```\n",
        "\n"
      ]
    },
    {
      "cell_type": "markdown",
      "metadata": {
        "id": "r6VI3ik00vKH"
      },
      "source": [
        "#### Example 1"
      ]
    },
    {
      "cell_type": "code",
      "execution_count": null,
      "metadata": {
        "id": "7u-pi8Oe0vKH"
      },
      "outputs": [],
      "source": [
        "#Example\n",
        "numbers = [1,2,3]\n",
        "try:\n",
        "    print (numbers[3])\n",
        "except Exception as e:\n",
        "    print (e)\n"
      ]
    },
    {
      "cell_type": "markdown",
      "metadata": {
        "id": "eChhLj4F0vKH"
      },
      "source": [
        "#### Example 2"
      ]
    },
    {
      "cell_type": "code",
      "execution_count": null,
      "metadata": {
        "id": "XxBPfngg0vKH",
        "outputId": "84ef8638-ca7d-435c-806c-023ec17f1d76"
      },
      "outputs": [
        {
          "name": "stdout",
          "output_type": "stream",
          "text": [
            "IndexError: list index out of range\n"
          ]
        }
      ],
      "source": [
        "# Example 2\n",
        "numbers = [1,2,3]\n",
        "try:\n",
        "    print (numbers[10])\n",
        "except IndexError:\n",
        "    print ('IndexError: list index out of range')\n",
        "else:\n",
        "    print ('No error')\n",
        "\n",
        "\n"
      ]
    },
    {
      "cell_type": "markdown",
      "metadata": {
        "id": "NjWkF63K0vKH"
      },
      "source": [
        "## Main Adavatage of the try-except statement\n",
        "\n",
        "#### Die or Alive\n",
        "\n",
        "- In error situation, the program is not terminated.\n",
        "- The program can continue to run.\n",
        "\n",
        "\n",
        "\n"
      ]
    },
    {
      "cell_type": "markdown",
      "metadata": {
        "id": "9dsJHThe0vKH"
      },
      "source": [
        "## Error Keywords\n",
        "[Python Official Document for Errores and exception](https://docs.python.org/3/tutorial/errors.html)\n",
        "```\n",
        "Types of Exceptions\n",
        "Python has several built-in exception types. Some common ones include:\n",
        "- SyntaxError: Raised when there's a syntax error in the code.\n",
        "- NameError: Raised when a variable is not found in the local or global scope.\n",
        "- TypeError: Raised when an operation is performed on an inappropriate type.\n",
        "- ValueError: Raised when a function receives an argument of the correct type but an inappropriate value.\n",
        "- ZeroDivisionError: Raised when division or modulo by zero is performed.\n",
        "```\n",
        "\n"
      ]
    },
    {
      "cell_type": "markdown",
      "metadata": {
        "id": "ZbGW31tT0vKH"
      },
      "source": [
        "#### <p style=\"font-family: Arial; font-size:1.4em; background-color: yellow; color:black;\"> Problem #3.3 </p>"
      ]
    },
    {
      "cell_type": "markdown",
      "metadata": {
        "id": "2pzakdl20vKH"
      },
      "source": [
        "### Make the code segment to handle the index error situation with the try-except statement\n",
        "- There is 100 elements in the list numbers\n",
        "- A user will pick an index of the element in the list\n",
        "- Your program will print out the element in the list at the picked index\n",
        "- If the index is out of range, the program will print out the error message \"IndexError: list index out of range\". Use the try-except statement to handle the error.\n",
        "- If the index is valid, the program will print out the element in the list at the picked index\n",
        "\n"
      ]
    },
    {
      "cell_type": "code",
      "execution_count": null,
      "metadata": {
        "id": "bh5eDmWy0vKH",
        "outputId": "e840c1d4-17d0-407e-ec15-b9545eb4eb6f"
      },
      "outputs": [
        {
          "name": "stdout",
          "output_type": "stream",
          "text": [
            "[42, 42, 58, 36, 20, 95, 71, 69, 27, 4, 90, 34, 31, 41, 50, 86, 50, 26, 84, 95, 79, 27, 35, 28, 35, 35, 65, 12, 94, 54, 70, 63, 31, 23, 33, 20, 68, 80, 88, 25, 55, 69, 69, 14, 13, 12, 83, 53, 84, 19, 18, 50, 92, 67, 60, 31, 84, 35, 33, 29, 88, 74, 9, 95, 76, 38, 66, 94, 80, 61, 81, 91, 65, 75, 40, 35, 92, 38, 93, 86, 46, 64, 97, 69, 46, 49, 3, 40, 76, 17, 86, 41, 5, 64, 25, 63, 47, 34, 11, 93]\n"
          ]
        }
      ],
      "source": [
        "import random\n",
        "\n",
        "numbers = [random.randint(1,100) for _ in range(100)]\n",
        "print (numbers)\n",
        "#****************************************************\n",
        "# code here\n",
        "#****************************************************/"
      ]
    },
    {
      "cell_type": "markdown",
      "metadata": {
        "id": "sbs1pDZE0vKH"
      },
      "source": [
        "<mark> Save your file by pressing \"Ctrl+S\" or \"git commit -m \"your message\"\" </mark>"
      ]
    },
    {
      "cell_type": "markdown",
      "metadata": {
        "id": "83UCC8ye0vKH"
      },
      "source": [
        "***\n",
        "\n",
        "## <p style=\"background-color: grey; color: white \"> ◼️  List </p>\n",
        "# <p style=\"font-family: Arial; font-size:1.4em;color:red;\"> 4. List of List\n",
        "\n"
      ]
    },
    {
      "cell_type": "markdown",
      "metadata": {
        "id": "DCElPMo50vKH"
      },
      "source": [
        "#### <p style=\"font-family: Arial; font-size:1.4em; background-color: yellow; color:black;\"> Problem #4.1 </p>"
      ]
    },
    {
      "cell_type": "markdown",
      "metadata": {
        "id": "DvR5VoM00vKH"
      },
      "source": [
        "## There are students records in the list \"students\".\n",
        "```\n",
        "- The Student record consists of the student name, age, and the list of scores in Math, Science, and English\n",
        "- Make a function to print out the student record in the following format\n",
        "-- No return value. Use the same list of students. Do not create a new list.\n",
        "- Name: <student name> - Age: <student age> - Scores: <list of scores> - Total Score: <total score> - Average Score: <average score>\n",
        "- The function will take the list of students as an input and print out the student record for each student in the list\n",
        "\n",
        "students = [\n",
        "    [\"John\", 20, [80, 85, 90]],\n",
        "    [\"Jane\", 21, [82, 86, 89]],\n",
        "    [\"Doe\", 22, [84, 88, 92]]\n",
        "]\n",
        "```"
      ]
    },
    {
      "cell_type": "code",
      "execution_count": null,
      "metadata": {
        "id": "p2gzlu860vKH"
      },
      "outputs": [],
      "source": [
        "def print_student_record(students):\n",
        "    ###################################################\n",
        "    # code here\n",
        "    # Name: John - Age: 20 - Scores: [80, 85, 90] - Total Score: 255 - Average Score: 85.0\n",
        "    # Name: Jane - Age: 21 - Scores: [82, 86, 89] - Total Score: 257 - Average Score: 85.67\n",
        "    # ...\n",
        "    ###################################################\n",
        "    print (\"**********************************************************************\")\n",
        "    for student in students:\n",
        "        print (f\"Name: {student[0]} - Age: {student[1]} - Scores: {student[2]} - Total Score: {sum(student[2])} - Average Score: {sum(student[2])/len(student[2])}\")\n",
        "\n",
        "\n",
        "\n",
        "students = [\n",
        "    [\"John\", 20, [80, 85, 90]],\n",
        "    [\"Jane\", 21, [82, 86, 89]],\n",
        "    [\"Doe\", 22, [84, 88, 92]],\n",
        "    ['Kim', 23, [85, 89, 91]],\n",
        "    ['Lee', 24, [86, 90, 93]],\n",
        "    ['Alex', 25, [87, 91, 94]],\n",
        "    ['Kyle', 26, [88, 92, 95]],\n",
        "    ['Jenny', 27, [89, 93, 96]],\n",
        "    ['Jake', 28, [90, 94, 97]],\n",
        "    ['Jessica', 29, [91, 95, 98]],\n",
        "    ['Josh', 30, [92, 96, 99]],\n",
        "    ['Jill', 31, [93, 97, 100]] ]\n",
        "\n",
        "print_student_record(students)\n",
        "\n",
        "\n"
      ]
    },
    {
      "cell_type": "markdown",
      "metadata": {
        "id": "EPrOz96h0vKH"
      },
      "source": [
        "## Make the function \"sort_students\" to sort the students by the the following criteria\n",
        "\n",
        "- Key = 1: Sort the students by the total score\n",
        "- Key = 2: Sort the students by the age\n",
        "- Key = 3: Sort the students by the name\n",
        "- Ascending = True: Sort in ascending order\n",
        "- Ascending = False: Sort in descending order\n",
        "```\n",
        "def sort_students(students, key, ascending):\n",
        "    ###################################################\n",
        "    # code here\n",
        "    ###################################################\n",
        "\n",
        "```\n"
      ]
    },
    {
      "cell_type": "code",
      "execution_count": null,
      "metadata": {
        "id": "boKgmWRV0vKH"
      },
      "outputs": [],
      "source": [
        "def sort_students(students, key, ascending):\n",
        "    ###################################################\n",
        "    # code here\n",
        "    ###################################################\n",
        "\n",
        "\n",
        "\n",
        "print_student_record(students)\n",
        "sort_students(students, 1, True)\n",
        "print_student_record(students)\n",
        "sort_students(students, 2, False)\n",
        "print_student_record(students)\n",
        "sort_students(students, 3, True)\n",
        "print_student_record(students)\n"
      ]
    },
    {
      "cell_type": "markdown",
      "metadata": {
        "id": "Jw8iEEDK0vKI"
      },
      "source": [
        "#### <p style=\"font-family: Arial; font-size:1.4em; background-color: yellow; color:black;\"> Problem #4.2 </p>"
      ]
    },
    {
      "cell_type": "markdown",
      "metadata": {
        "id": "TmDEPOE-0vKI"
      },
      "source": [
        "## Make the function \"reconstruct_list(rows, cols)\" that reconstructs the list of integers in the following way\n",
        "#### Return value: new list of list of integers\n",
        "\n",
        "- numbers = [ 1, 2, 3, 4, 5, 6, 7, 8, 9, 10, 11, 12, 13, 14, 15, 16, 17, 18, 19, 20, 21, 22, 23, 24]\n",
        "- reconstruct_list(rows, cols) will reform the list of list of integers with the number of rows and columns\n",
        "- For example, if rows = 4 and cols = 6, the function will return the following list of list of integers\n",
        "- numbers = [ [1, 2, 3, 4, 5, 6], [7, 8, 9, 10, 11, 12], [13, 14, 15, 16, 17, 18], [19, 20, 21, 22, 23, 24] ]\n",
        "- For example if rows = 2 and cols = 12,\n",
        "- numbers = [ [1, 2, 3, 4, 5, 6, 7, 8, 9, 10, 11, 12], [13, 14, 15, 16, 17, 18, 19, 20, 21, 22, 23, 24] ]\n",
        "- For example if rows = 8 and cols = 3,\n",
        "- numbers = [ [1, 2, 3], [4, 5, 6], [7, 8, 9], [10, 11, 12], [13, 14, 15], [16, 17, 18], [19, 20, 21], [22, 23, 24] ]\n",
        "```\n",
        "def reconstruct_list(numbers, rows, cols):\n",
        "    ###################################################\n",
        "    # code here\n",
        "    ###################################################\n",
        "\n",
        "```\n"
      ]
    },
    {
      "cell_type": "code",
      "execution_count": null,
      "metadata": {
        "id": "u1go3WVA0vKI"
      },
      "outputs": [],
      "source": [
        "def reconstruct_list(numbers, rows, cols):\n",
        "    ###################################################\n",
        "    # code here\n",
        "    ###################################################\n",
        "\n",
        "numbers = [ 1, 2, 3, 4, 5, 6, 7, 8, 9, 10, 11, 12, 13, 14, 15, 16, 17, 18, 19, 20, 21, 22, 23, 24]\n",
        "new_numbers = reconstruct_list(numbers, 4, 6)\n",
        "print (new_numbers)"
      ]
    },
    {
      "cell_type": "markdown",
      "metadata": {
        "id": "3bxsM6tv0vKI"
      },
      "source": [
        "<mark> Save your file by pressing \"Ctrl+S\" or \"git commit -m \"your message\"\" </mark>"
      ]
    },
    {
      "cell_type": "markdown",
      "metadata": {
        "id": "8jhQ2jIP0vKI"
      },
      "source": [
        "***\n",
        "\n",
        "## <p style=\"background-color: grey; color: white \"> ◼️  List </p>\n",
        "# <p style=\"font-family: Arial; font-size:1.4em;color:red;\"> 5. any() and all()\n",
        "\n"
      ]
    },
    {
      "cell_type": "markdown",
      "metadata": {
        "id": "DE3wZB7G0vKI"
      },
      "source": [
        "Use the any() and all() functions to check the elements in the list\n",
        "\n",
        "#### <p style=\"font-family: Arial; font-size:1.4em; background-color: yellow; color:black;\"> Problem #5.1 </p>\n",
        "\n",
        "#### Run the following code segment and figure out the output of the code segment"
      ]
    },
    {
      "cell_type": "code",
      "execution_count": null,
      "metadata": {
        "id": "uDvMCphn0vKI"
      },
      "outputs": [],
      "source": [
        "numbers = [1, 2, 3, 4, 5, 6, 7, 8, 9, 10]\n",
        "\n",
        "any( x % 2 == 0 for x in numbers)"
      ]
    },
    {
      "cell_type": "code",
      "execution_count": null,
      "metadata": {
        "id": "1K3noy600vKI"
      },
      "outputs": [],
      "source": [
        "all ( x > 0 for x in numbers)"
      ]
    },
    {
      "cell_type": "markdown",
      "metadata": {
        "id": "PSLzBB9Q0vKI"
      },
      "source": [
        "Use the any() and all() functions to check the elements in the list\n",
        "\n",
        "#### <p style=\"font-family: Arial; font-size:1.4em; background-color: yellow; color:black;\"> Problem #5.2</p>\n",
        "\n",
        "#### Make the function isSubset(numbers1, numbers2) to check if the numbers1 is a subset of numbers2\n",
        "- Return True if the numbers1 is a subset of numbers2\n",
        "- Return False otherwise\n",
        "- Use the any() and all() functions to check the elements in the list\n"
      ]
    },
    {
      "cell_type": "code",
      "execution_count": null,
      "metadata": {
        "id": "QShCCIqg0vKI"
      },
      "outputs": [],
      "source": [
        "def isSubset(numbers1, numbers2):\n",
        "    ###################################################\n",
        "    # code here\n",
        "    ###################################################\n",
        "\n",
        "\n",
        "numbers1 = [1, 2, 3]\n",
        "numbers2 = [1, 2, 3, 4, 5, 6, 7, 8, 9, 10]\n",
        "print (isSubset(numbers1, numbers2))\n",
        "\n"
      ]
    },
    {
      "cell_type": "markdown",
      "metadata": {
        "id": "SIeRe8ab0vKI"
      },
      "source": [
        "<mark> Save your file by pressing \"Ctrl+S\" or \"git commit -m \"your message\"\" </mark>"
      ]
    }
  ],
  "metadata": {
    "kernelspec": {
      "display_name": "Python 3.9.13 ('base')",
      "language": "python",
      "name": "python3"
    },
    "language_info": {
      "codemirror_mode": {
        "name": "ipython",
        "version": 3
      },
      "file_extension": ".py",
      "mimetype": "text/x-python",
      "name": "python",
      "nbconvert_exporter": "python",
      "pygments_lexer": "ipython3",
      "version": "3.9.17"
    },
    "orig_nbformat": 4,
    "vscode": {
      "interpreter": {
        "hash": "32cd87c0c55905266dc8232ebf1148f668af0d9324249c125246585210a29cd6"
      }
    },
    "colab": {
      "provenance": []
    }
  },
  "nbformat": 4,
  "nbformat_minor": 0
}